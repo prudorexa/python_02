{
 "cells": [
  {
   "cell_type": "markdown",
   "metadata": {},
   "source": [
    "Rock-paper-scissors\n"
   ]
  },
  {
   "cell_type": "code",
   "execution_count": 1,
   "metadata": {},
   "outputs": [
    {
     "name": "stdout",
     "output_type": "stream",
     "text": [
      "Invalid choice. Please enter 'rock', 'paper', or 'scissors'.\n",
      "Computer chooses: paper\n",
      "It's a tie!\n",
      "Score: You 0 - 0 Computer\n",
      "Computer chooses: paper\n",
      "You win!\n",
      "Score: You 1 - 0 Computer\n",
      "Computer chooses: scissors\n",
      "Computer wins!\n",
      "Score: You 1 - 1 Computer\n",
      "It's a tie game!\n"
     ]
    }
   ],
   "source": [
    "import random\n",
    "\n",
    "def get_user_choice():\n",
    "    while True:\n",
    "        user_choice = input(\"Enter 'rock', 'paper', or 'scissors': \").lower()\n",
    "        if user_choice in ['rock', 'paper', 'scissors']:\n",
    "            return user_choice\n",
    "        else:\n",
    "            print(\"Invalid choice. Please enter 'rock', 'paper', or 'scissors'.\")\n",
    "\n",
    "def determine_winner(user_choice, computer_choice):\n",
    "    if user_choice == computer_choice:\n",
    "        return \"It's a tie!\"\n",
    "    elif (user_choice == 'rock' and computer_choice == 'scissors') or \\\n",
    "         (user_choice == 'scissors' and computer_choice == 'paper') or \\\n",
    "         (user_choice == 'paper' and computer_choice == 'rock'):\n",
    "        return \"You win!\"\n",
    "    else:\n",
    "        return \"Computer wins!\"\n",
    "\n",
    "def play_round():\n",
    "    user_choice = get_user_choice()\n",
    "    computer_choice = random.choice(['rock', 'paper', 'scissors'])\n",
    "    print(f\"Computer chooses: {computer_choice}\")\n",
    "    result = determine_winner(user_choice, computer_choice)\n",
    "    print(result)\n",
    "    return result\n",
    "\n",
    "def play_game(rounds):\n",
    "    user_score = 0\n",
    "    computer_score = 0\n",
    "    for _ in range(rounds):\n",
    "        result = play_round()\n",
    "        if \"You win!\" in result:\n",
    "            user_score += 1\n",
    "        elif \"Computer wins!\" in result:\n",
    "            computer_score += 1\n",
    "        print(f\"Score: You {user_score} - {computer_score} Computer\")\n",
    "\n",
    "        if user_score == (rounds // 2) + 1 or computer_score == (rounds // 2) + 1:\n",
    "            break\n",
    "\n",
    "    if user_score > computer_score:\n",
    "        print(\"Congratulations! You win the game!\")\n",
    "    elif user_score < computer_score:\n",
    "        print(\"Computer wins the game!\")\n",
    "    else:\n",
    "        print(\"It's a tie game!\")\n",
    "\n",
    "if __name__ == \"__main__\":\n",
    "    rounds = int(input(\"Enter the number of rounds (3 or 5): \"))\n",
    "    play_game(rounds)\n"
   ]
  }
 ],
 "metadata": {
  "kernelspec": {
   "display_name": "Python 3",
   "language": "python",
   "name": "python3"
  },
  "language_info": {
   "codemirror_mode": {
    "name": "ipython",
    "version": 3
   },
   "file_extension": ".py",
   "mimetype": "text/x-python",
   "name": "python",
   "nbconvert_exporter": "python",
   "pygments_lexer": "ipython3",
   "version": "3.12.3"
  }
 },
 "nbformat": 4,
 "nbformat_minor": 2
}
